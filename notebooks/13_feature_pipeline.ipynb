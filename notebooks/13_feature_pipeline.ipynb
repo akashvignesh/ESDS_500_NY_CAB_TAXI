{
 "cells": [
  {
   "cell_type": "code",
   "execution_count": 30,
   "id": "4aba119e-8624-4c30-ad3c-49759f3f18d4",
   "metadata": {},
   "outputs": [],
   "source": [
    "import sys\n",
    "import os\n",
    "\n",
    "# Add the parent directory to the Python path\n",
    "sys.path.append(os.path.abspath(os.path.join(os.getcwd(), \"..\")))\n",
    "import src.config as config"
   ]
  },
  {
   "cell_type": "code",
   "execution_count": 31,
   "id": "d70f3626-766c-430f-97d9-ee5c9068c240",
   "metadata": {},
   "outputs": [
    {
     "name": "stdout",
     "output_type": "stream",
     "text": [
      "2025-03-03 01:00:00\n"
     ]
    }
   ],
   "source": [
    "from datetime import datetime, timedelta\n",
    "\n",
    "import pandas as pd\n",
    "\n",
    "current_date = pd.to_datetime(datetime.utcnow()).floor('h')\n",
    "print(f\"{current_date}\")"
   ]
  },
  {
   "cell_type": "code",
   "execution_count": 32,
   "id": "98019378-2d7e-44d9-b6a3-794e640b2910",
   "metadata": {},
   "outputs": [
    {
     "data": {
      "text/plain": [
       "pandas._libs.tslibs.timestamps.Timestamp"
      ]
     },
     "execution_count": 32,
     "metadata": {},
     "output_type": "execute_result"
    }
   ],
   "source": [
    "type(current_date)"
   ]
  },
  {
   "cell_type": "code",
   "execution_count": 24,
   "id": "8dfe29a0-f439-4e3b-8ad2-78eb40a3bde3",
   "metadata": {},
   "outputs": [],
   "source": [
    "from datetime import datetime, timedelta, timezone\n",
    "current_date = pd.to_datetime(datetime.now(timezone.utc)).floor(\"h\")"
   ]
  },
  {
   "cell_type": "code",
   "execution_count": null,
   "id": "e1ceac31-828d-4ca3-9ae3-19a0f4ec2ab8",
   "metadata": {},
   "outputs": [
    {
     "data": {
      "text/plain": [
       "numpy.datetime64('2025-03-03T01:00:00.000000000')"
      ]
     },
     "execution_count": 16,
     "metadata": {},
     "output_type": "execute_result"
    }
   ],
   "source": [
    "#current_date.to_datetime64()"
   ]
  },
  {
   "cell_type": "code",
   "execution_count": 33,
   "id": "0a9eb28f-e6ea-44e6-aa60-05d8304691fc",
   "metadata": {},
   "outputs": [],
   "source": [
    "fetch_data_to = current_date\n",
    "fetch_data_from = current_date - timedelta(days=29)"
   ]
  },
  {
   "cell_type": "code",
   "execution_count": 34,
   "id": "133fcfda-af02-43f0-8851-63ef10b778ba",
   "metadata": {},
   "outputs": [
    {
     "data": {
      "text/plain": [
       "Timestamp('2025-03-03 01:00:00')"
      ]
     },
     "execution_count": 34,
     "metadata": {},
     "output_type": "execute_result"
    }
   ],
   "source": [
    "fetch_data_to"
   ]
  },
  {
   "cell_type": "code",
   "execution_count": 35,
   "id": "ec2f9e79-58b1-4e18-9346-c93fc04e1f7c",
   "metadata": {},
   "outputs": [
    {
     "data": {
      "text/plain": [
       "Timestamp('2025-02-02 01:00:00')"
      ]
     },
     "execution_count": 35,
     "metadata": {},
     "output_type": "execute_result"
    }
   ],
   "source": [
    "fetch_data_from"
   ]
  },
  {
   "cell_type": "code",
   "execution_count": 36,
   "id": "dfaf545c-01d6-41dc-871d-c514c667bbce",
   "metadata": {},
   "outputs": [],
   "source": [
    "from datetime import datetime, timedelta\n",
    "from typing import Union\n",
    "import pandas as pd\n",
    "from src.data_utils import load_and_process_taxi_data\n",
    "\n",
    "def fetch_batch_raw_data(from_date: Union[datetime, str], to_date: Union[datetime, str]) -> pd.DataFrame:\n",
    "    \"\"\"\n",
    "    Simulate production data by sampling historical data from 52 weeks ago (i.e., 1 year).\n",
    "\n",
    "    Args:\n",
    "        from_date (datetime or str): The start date for the data batch.\n",
    "        to_date (datetime or str): The end date for the data batch.\n",
    "\n",
    "    Returns:\n",
    "        pd.DataFrame: A DataFrame containing the simulated production data.\n",
    "    \"\"\"\n",
    "    # Convert string inputs to datetime if necessary\n",
    "    if isinstance(from_date, str):\n",
    "        from_date = datetime.fromisoformat(from_date)\n",
    "    if isinstance(to_date, str):\n",
    "        to_date = datetime.fromisoformat(to_date)\n",
    "\n",
    "    # Validate input dates\n",
    "    if not isinstance(from_date, datetime) or not isinstance(to_date, datetime):\n",
    "        raise ValueError(\"Both 'from_date' and 'to_date' must be datetime objects or valid ISO format strings.\")\n",
    "    if from_date >= to_date:\n",
    "        raise ValueError(\"'from_date' must be earlier than 'to_date'.\")\n",
    "\n",
    "    # Shift dates back by 52 weeks (1 year)\n",
    "    historical_from_date = from_date - timedelta(weeks=52)\n",
    "    historical_to_date = to_date - timedelta(weeks=52)\n",
    "\n",
    "    # Load and filter data for the historical period\n",
    "    rides_from = load_and_process_taxi_data(year=historical_from_date.year, months=[historical_from_date.month])\n",
    "    rides_from = rides_from[rides_from.pickup_datetime >= historical_from_date]\n",
    "\n",
    "    if historical_to_date.month != historical_from_date.month:\n",
    "        rides_to = load_and_process_taxi_data(year=historical_to_date.year, months=[historical_to_date.month])\n",
    "        rides_to = rides_to[rides_to.pickup_datetime < historical_to_date]\n",
    "        # Combine the filtered data\n",
    "        rides = pd.concat([rides_from, rides_to], ignore_index=True)\n",
    "    else:\n",
    "        rides = rides_from\n",
    "    # Shift the data forward by 52 weeks to simulate recent data\n",
    "    rides['pickup_datetime'] += timedelta(weeks=52)\n",
    "\n",
    "    # Sort the data for consistency\n",
    "    rides.sort_values(by=['pickup_location_id', 'pickup_datetime'], inplace=True)\n",
    "\n",
    "    return rides"
   ]
  },
  {
   "cell_type": "code",
   "execution_count": 37,
   "id": "4e1669d5-cc0b-440b-8e8d-8bb78d16c58c",
   "metadata": {},
   "outputs": [
    {
     "name": "stdout",
     "output_type": "stream",
     "text": [
      "File already exists for 2024-02.\n",
      "Loading data for 2024-02...\n",
      "Total records: 3,007,526\n",
      "Valid records: 2,954,709\n",
      "Records dropped: 52,817 (1.76%)\n",
      "Successfully processed data for 2024-02.\n",
      "Combining all monthly data...\n",
      "Data loading and processing complete!\n",
      "Downloading data for 2024-03...\n",
      "Successfully downloaded data for 2024-03.\n",
      "Loading data for 2024-03...\n",
      "Total records: 3,582,628\n",
      "Valid records: 3,518,066\n",
      "Records dropped: 64,562 (1.80%)\n",
      "Successfully processed data for 2024-03.\n",
      "Combining all monthly data...\n",
      "Data loading and processing complete!\n"
     ]
    }
   ],
   "source": [
    "rides = fetch_batch_raw_data(fetch_data_from, fetch_data_to)"
   ]
  },
  {
   "cell_type": "code",
   "execution_count": 12,
   "id": "22176c04-e64c-496a-9acd-6a6eb7bc2ff0",
   "metadata": {},
   "outputs": [
    {
     "data": {
      "text/html": [
       "<div>\n",
       "<style scoped>\n",
       "    .dataframe tbody tr th:only-of-type {\n",
       "        vertical-align: middle;\n",
       "    }\n",
       "\n",
       "    .dataframe tbody tr th {\n",
       "        vertical-align: top;\n",
       "    }\n",
       "\n",
       "    .dataframe thead th {\n",
       "        text-align: right;\n",
       "    }\n",
       "</style>\n",
       "<table border=\"1\" class=\"dataframe\">\n",
       "  <thead>\n",
       "    <tr style=\"text-align: right;\">\n",
       "      <th></th>\n",
       "      <th>pickup_datetime</th>\n",
       "      <th>pickup_location_id</th>\n",
       "    </tr>\n",
       "  </thead>\n",
       "  <tbody>\n",
       "    <tr>\n",
       "      <th>5359</th>\n",
       "      <td>2025-01-09 04:51:34</td>\n",
       "      <td>3</td>\n",
       "    </tr>\n",
       "    <tr>\n",
       "      <th>40021</th>\n",
       "      <td>2025-01-09 13:09:55</td>\n",
       "      <td>3</td>\n",
       "    </tr>\n",
       "    <tr>\n",
       "      <th>107013</th>\n",
       "      <td>2025-01-10 04:38:43</td>\n",
       "      <td>3</td>\n",
       "    </tr>\n",
       "    <tr>\n",
       "      <th>107628</th>\n",
       "      <td>2025-01-10 05:34:12</td>\n",
       "      <td>3</td>\n",
       "    </tr>\n",
       "    <tr>\n",
       "      <th>108750</th>\n",
       "      <td>2025-01-10 06:37:19</td>\n",
       "      <td>3</td>\n",
       "    </tr>\n",
       "    <tr>\n",
       "      <th>...</th>\n",
       "      <td>...</td>\n",
       "      <td>...</td>\n",
       "    </tr>\n",
       "    <tr>\n",
       "      <th>2820212</th>\n",
       "      <td>2025-02-06 22:57:08</td>\n",
       "      <td>263</td>\n",
       "    </tr>\n",
       "    <tr>\n",
       "      <th>2817070</th>\n",
       "      <td>2025-02-06 22:57:10</td>\n",
       "      <td>263</td>\n",
       "    </tr>\n",
       "    <tr>\n",
       "      <th>2821718</th>\n",
       "      <td>2025-02-06 22:57:37</td>\n",
       "      <td>263</td>\n",
       "    </tr>\n",
       "    <tr>\n",
       "      <th>2822944</th>\n",
       "      <td>2025-02-06 22:57:47</td>\n",
       "      <td>263</td>\n",
       "    </tr>\n",
       "    <tr>\n",
       "      <th>2817582</th>\n",
       "      <td>2025-02-06 22:59:58</td>\n",
       "      <td>263</td>\n",
       "    </tr>\n",
       "  </tbody>\n",
       "</table>\n",
       "<p>2855754 rows × 2 columns</p>\n",
       "</div>"
      ],
      "text/plain": [
       "            pickup_datetime  pickup_location_id\n",
       "5359    2025-01-09 04:51:34                   3\n",
       "40021   2025-01-09 13:09:55                   3\n",
       "107013  2025-01-10 04:38:43                   3\n",
       "107628  2025-01-10 05:34:12                   3\n",
       "108750  2025-01-10 06:37:19                   3\n",
       "...                     ...                 ...\n",
       "2820212 2025-02-06 22:57:08                 263\n",
       "2817070 2025-02-06 22:57:10                 263\n",
       "2821718 2025-02-06 22:57:37                 263\n",
       "2822944 2025-02-06 22:57:47                 263\n",
       "2817582 2025-02-06 22:59:58                 263\n",
       "\n",
       "[2855754 rows x 2 columns]"
      ]
     },
     "execution_count": 12,
     "metadata": {},
     "output_type": "execute_result"
    }
   ],
   "source": [
    "rides"
   ]
  },
  {
   "cell_type": "code",
   "execution_count": 38,
   "id": "783eebf6-7c7d-4ef8-9134-a92c87123146",
   "metadata": {},
   "outputs": [],
   "source": [
    "from src.data_utils import transform_raw_data_into_ts_data\n",
    "ts_data = transform_raw_data_into_ts_data(rides)"
   ]
  },
  {
   "cell_type": "code",
   "execution_count": 39,
   "id": "adbca6ba-f012-4f40-b419-ed620a8e7054",
   "metadata": {},
   "outputs": [
    {
     "data": {
      "application/vnd.microsoft.datawrangler.viewer.v0+json": {
       "columns": [
        {
         "name": "index",
         "rawType": "int64",
         "type": "integer"
        },
        {
         "name": "pickup_hour",
         "rawType": "datetime64[ns]",
         "type": "datetime"
        },
        {
         "name": "pickup_location_id",
         "rawType": "int16",
         "type": "integer"
        },
        {
         "name": "rides",
         "rawType": "int16",
         "type": "integer"
        }
       ],
       "conversionMethod": "pd.DataFrame",
       "ref": "85db7c8e-2f59-4ad2-9e32-6c7aa610afa0",
       "rows": [
        [
         "0",
         "2025-02-02 01:00:00",
         "2",
         "0"
        ],
        [
         "1",
         "2025-02-02 02:00:00",
         "2",
         "0"
        ],
        [
         "2",
         "2025-02-02 03:00:00",
         "2",
         "0"
        ],
        [
         "3",
         "2025-02-02 04:00:00",
         "2",
         "0"
        ],
        [
         "4",
         "2025-02-02 05:00:00",
         "2",
         "0"
        ],
        [
         "5",
         "2025-02-02 06:00:00",
         "2",
         "0"
        ],
        [
         "6",
         "2025-02-02 07:00:00",
         "2",
         "0"
        ],
        [
         "7",
         "2025-02-02 08:00:00",
         "2",
         "0"
        ],
        [
         "8",
         "2025-02-02 09:00:00",
         "2",
         "0"
        ],
        [
         "9",
         "2025-02-02 10:00:00",
         "2",
         "0"
        ],
        [
         "10",
         "2025-02-02 11:00:00",
         "2",
         "0"
        ],
        [
         "11",
         "2025-02-02 12:00:00",
         "2",
         "0"
        ],
        [
         "12",
         "2025-02-02 13:00:00",
         "2",
         "0"
        ],
        [
         "13",
         "2025-02-02 14:00:00",
         "2",
         "0"
        ],
        [
         "14",
         "2025-02-02 15:00:00",
         "2",
         "0"
        ],
        [
         "15",
         "2025-02-02 16:00:00",
         "2",
         "0"
        ],
        [
         "16",
         "2025-02-02 17:00:00",
         "2",
         "0"
        ],
        [
         "17",
         "2025-02-02 18:00:00",
         "2",
         "0"
        ],
        [
         "18",
         "2025-02-02 19:00:00",
         "2",
         "0"
        ],
        [
         "19",
         "2025-02-02 20:00:00",
         "2",
         "0"
        ],
        [
         "20",
         "2025-02-02 21:00:00",
         "2",
         "0"
        ],
        [
         "21",
         "2025-02-02 22:00:00",
         "2",
         "0"
        ],
        [
         "22",
         "2025-02-02 23:00:00",
         "2",
         "0"
        ],
        [
         "23",
         "2025-02-03 00:00:00",
         "2",
         "0"
        ],
        [
         "24",
         "2025-02-03 01:00:00",
         "2",
         "0"
        ],
        [
         "25",
         "2025-02-03 02:00:00",
         "2",
         "0"
        ],
        [
         "26",
         "2025-02-03 03:00:00",
         "2",
         "0"
        ],
        [
         "27",
         "2025-02-03 04:00:00",
         "2",
         "0"
        ],
        [
         "28",
         "2025-02-03 05:00:00",
         "2",
         "0"
        ],
        [
         "29",
         "2025-02-03 06:00:00",
         "2",
         "0"
        ],
        [
         "30",
         "2025-02-03 07:00:00",
         "2",
         "0"
        ],
        [
         "31",
         "2025-02-03 08:00:00",
         "2",
         "0"
        ],
        [
         "32",
         "2025-02-03 09:00:00",
         "2",
         "0"
        ],
        [
         "33",
         "2025-02-03 10:00:00",
         "2",
         "0"
        ],
        [
         "34",
         "2025-02-03 11:00:00",
         "2",
         "0"
        ],
        [
         "35",
         "2025-02-03 12:00:00",
         "2",
         "0"
        ],
        [
         "36",
         "2025-02-03 13:00:00",
         "2",
         "0"
        ],
        [
         "37",
         "2025-02-03 14:00:00",
         "2",
         "0"
        ],
        [
         "38",
         "2025-02-03 15:00:00",
         "2",
         "0"
        ],
        [
         "39",
         "2025-02-03 16:00:00",
         "2",
         "0"
        ],
        [
         "40",
         "2025-02-03 17:00:00",
         "2",
         "0"
        ],
        [
         "41",
         "2025-02-03 18:00:00",
         "2",
         "0"
        ],
        [
         "42",
         "2025-02-03 19:00:00",
         "2",
         "0"
        ],
        [
         "43",
         "2025-02-03 20:00:00",
         "2",
         "0"
        ],
        [
         "44",
         "2025-02-03 21:00:00",
         "2",
         "0"
        ],
        [
         "45",
         "2025-02-03 22:00:00",
         "2",
         "0"
        ],
        [
         "46",
         "2025-02-03 23:00:00",
         "2",
         "0"
        ],
        [
         "47",
         "2025-02-04 00:00:00",
         "2",
         "0"
        ],
        [
         "48",
         "2025-02-04 01:00:00",
         "2",
         "0"
        ],
        [
         "49",
         "2025-02-04 02:00:00",
         "2",
         "0"
        ]
       ],
       "shape": {
        "columns": 3,
        "rows": 174696
       }
      },
      "text/html": [
       "<div>\n",
       "<style scoped>\n",
       "    .dataframe tbody tr th:only-of-type {\n",
       "        vertical-align: middle;\n",
       "    }\n",
       "\n",
       "    .dataframe tbody tr th {\n",
       "        vertical-align: top;\n",
       "    }\n",
       "\n",
       "    .dataframe thead th {\n",
       "        text-align: right;\n",
       "    }\n",
       "</style>\n",
       "<table border=\"1\" class=\"dataframe\">\n",
       "  <thead>\n",
       "    <tr style=\"text-align: right;\">\n",
       "      <th></th>\n",
       "      <th>pickup_hour</th>\n",
       "      <th>pickup_location_id</th>\n",
       "      <th>rides</th>\n",
       "    </tr>\n",
       "  </thead>\n",
       "  <tbody>\n",
       "    <tr>\n",
       "      <th>0</th>\n",
       "      <td>2025-02-02 01:00:00</td>\n",
       "      <td>2</td>\n",
       "      <td>0</td>\n",
       "    </tr>\n",
       "    <tr>\n",
       "      <th>1</th>\n",
       "      <td>2025-02-02 02:00:00</td>\n",
       "      <td>2</td>\n",
       "      <td>0</td>\n",
       "    </tr>\n",
       "    <tr>\n",
       "      <th>2</th>\n",
       "      <td>2025-02-02 03:00:00</td>\n",
       "      <td>2</td>\n",
       "      <td>0</td>\n",
       "    </tr>\n",
       "    <tr>\n",
       "      <th>3</th>\n",
       "      <td>2025-02-02 04:00:00</td>\n",
       "      <td>2</td>\n",
       "      <td>0</td>\n",
       "    </tr>\n",
       "    <tr>\n",
       "      <th>4</th>\n",
       "      <td>2025-02-02 05:00:00</td>\n",
       "      <td>2</td>\n",
       "      <td>0</td>\n",
       "    </tr>\n",
       "    <tr>\n",
       "      <th>...</th>\n",
       "      <td>...</td>\n",
       "      <td>...</td>\n",
       "      <td>...</td>\n",
       "    </tr>\n",
       "    <tr>\n",
       "      <th>174691</th>\n",
       "      <td>2025-03-02 20:00:00</td>\n",
       "      <td>263</td>\n",
       "      <td>85</td>\n",
       "    </tr>\n",
       "    <tr>\n",
       "      <th>174692</th>\n",
       "      <td>2025-03-02 21:00:00</td>\n",
       "      <td>263</td>\n",
       "      <td>67</td>\n",
       "    </tr>\n",
       "    <tr>\n",
       "      <th>174693</th>\n",
       "      <td>2025-03-02 22:00:00</td>\n",
       "      <td>263</td>\n",
       "      <td>45</td>\n",
       "    </tr>\n",
       "    <tr>\n",
       "      <th>174694</th>\n",
       "      <td>2025-03-02 23:00:00</td>\n",
       "      <td>263</td>\n",
       "      <td>17</td>\n",
       "    </tr>\n",
       "    <tr>\n",
       "      <th>174695</th>\n",
       "      <td>2025-03-03 00:00:00</td>\n",
       "      <td>263</td>\n",
       "      <td>12</td>\n",
       "    </tr>\n",
       "  </tbody>\n",
       "</table>\n",
       "<p>174696 rows × 3 columns</p>\n",
       "</div>"
      ],
      "text/plain": [
       "               pickup_hour  pickup_location_id  rides\n",
       "0      2025-02-02 01:00:00                   2      0\n",
       "1      2025-02-02 02:00:00                   2      0\n",
       "2      2025-02-02 03:00:00                   2      0\n",
       "3      2025-02-02 04:00:00                   2      0\n",
       "4      2025-02-02 05:00:00                   2      0\n",
       "...                    ...                 ...    ...\n",
       "174691 2025-03-02 20:00:00                 263     85\n",
       "174692 2025-03-02 21:00:00                 263     67\n",
       "174693 2025-03-02 22:00:00                 263     45\n",
       "174694 2025-03-02 23:00:00                 263     17\n",
       "174695 2025-03-03 00:00:00                 263     12\n",
       "\n",
       "[174696 rows x 3 columns]"
      ]
     },
     "execution_count": 39,
     "metadata": {},
     "output_type": "execute_result"
    }
   ],
   "source": [
    "ts_data"
   ]
  },
  {
   "cell_type": "code",
   "execution_count": 40,
   "id": "0b8f1dc6-46d6-4fad-915b-c8c4c02b9887",
   "metadata": {},
   "outputs": [
    {
     "name": "stdout",
     "output_type": "stream",
     "text": [
      "<class 'pandas.core.frame.DataFrame'>\n",
      "RangeIndex: 174696 entries, 0 to 174695\n",
      "Data columns (total 3 columns):\n",
      " #   Column              Non-Null Count   Dtype         \n",
      "---  ------              --------------   -----         \n",
      " 0   pickup_hour         174696 non-null  datetime64[ns]\n",
      " 1   pickup_location_id  174696 non-null  int16         \n",
      " 2   rides               174696 non-null  int16         \n",
      "dtypes: datetime64[ns](1), int16(2)\n",
      "memory usage: 2.0 MB\n"
     ]
    }
   ],
   "source": [
    "ts_data.info()"
   ]
  },
  {
   "cell_type": "code",
   "execution_count": 41,
   "id": "0c2d5acd-0f97-4117-b61d-6135391891db",
   "metadata": {},
   "outputs": [
    {
     "name": "stdout",
     "output_type": "stream",
     "text": [
      "2025-03-02 20:30:28,708 INFO: Initializing external client\n",
      "2025-03-02 20:30:28,709 INFO: Base URL: https://c.app.hopsworks.ai:443\n",
      "2025-03-02 20:30:32,405 INFO: Python Engine initialized.\n",
      "\n",
      "Logged in to project, explore it here https://c.app.hopsworks.ai:443/p/1215649\n"
     ]
    }
   ],
   "source": [
    "import hopsworks\n",
    "\n",
    "# connect to the project\n",
    "project = hopsworks.login(\n",
    "    project=config.HOPSWORKS_PROJECT_NAME,\n",
    "    api_key_value=config.HOPSWORKS_API_KEY\n",
    ")\n",
    "\n",
    "# connect to the feature store\n",
    "feature_store = project.get_feature_store()\n",
    "\n",
    "# connect to the feature group\n",
    "feature_group = feature_store.get_feature_group(\n",
    "    name=config.FEATURE_GROUP_NAME,\n",
    "    version=config.FEATURE_GROUP_VERSION,\n",
    ")\n",
    "\n"
   ]
  },
  {
   "cell_type": "code",
   "execution_count": 42,
   "id": "b3093058-9e94-4b49-9ad9-32dace742a31",
   "metadata": {},
   "outputs": [
    {
     "name": "stderr",
     "output_type": "stream",
     "text": [
      "Uploading Dataframe: 100.00% |██████████| Rows 174696/174696 | Elapsed Time: 00:12 | Remaining Time: 00:00\n"
     ]
    },
    {
     "name": "stdout",
     "output_type": "stream",
     "text": [
      "Launching job: time_series_hourly_feature_group_1_offline_fg_materialization\n",
      "Job started successfully, you can follow the progress at \n",
      "https://c.app.hopsworks.ai:443/p/1215649/jobs/named/time_series_hourly_feature_group_1_offline_fg_materialization/executions\n"
     ]
    },
    {
     "data": {
      "text/plain": [
       "(Job('time_series_hourly_feature_group_1_offline_fg_materialization', 'SPARK'),\n",
       " None)"
      ]
     },
     "execution_count": 42,
     "metadata": {},
     "output_type": "execute_result"
    }
   ],
   "source": [
    "feature_group.insert(ts_data, write_options={\"wait_for_job\": False})"
   ]
  }
 ],
 "metadata": {
  "kernelspec": {
   "display_name": "testVmForZiaProject",
   "language": "python",
   "name": "python3"
  },
  "language_info": {
   "codemirror_mode": {
    "name": "ipython",
    "version": 3
   },
   "file_extension": ".py",
   "mimetype": "text/x-python",
   "name": "python",
   "nbconvert_exporter": "python",
   "pygments_lexer": "ipython3",
   "version": "3.11.0"
  }
 },
 "nbformat": 4,
 "nbformat_minor": 5
}
