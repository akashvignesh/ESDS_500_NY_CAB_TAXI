{
 "cells": [
  {
   "cell_type": "code",
   "execution_count": 183,
   "id": "1555e775-4045-409a-a2cd-b22934b5fe3b",
   "metadata": {},
   "outputs": [
    {
     "name": "stdout",
     "output_type": "stream",
     "text": [
      "The autoreload extension is already loaded. To reload it, use:\n",
      "  %reload_ext autoreload\n"
     ]
    }
   ],
   "source": [
    "%load_ext autoreload\n",
    "%autoreload 2"
   ]
  },
  {
   "cell_type": "code",
   "execution_count": 184,
   "id": "15e2d67e-a5c7-453c-84e8-a210c608e9f0",
   "metadata": {},
   "outputs": [],
   "source": [
    "import sys\n",
    "import os\n",
    "\n",
    "# Add the parent directory to the Python path\n",
    "sys.path.append(os.path.abspath(os.path.join(os.getcwd(), \"..\")))\n",
    "import src.config as config"
   ]
  },
  {
   "cell_type": "code",
   "execution_count": 185,
   "id": "05248d6f-2194-48dd-a582-77cbda1ad16c",
   "metadata": {},
   "outputs": [
    {
     "name": "stdout",
     "output_type": "stream",
     "text": [
      "Current UTC hour (ceiled): 2025-03-04 19:00:00+00:00\n"
     ]
    }
   ],
   "source": [
    "import src.config as config\n",
    "from src.inference import (\n",
    "    get_feature_store\n",
    ")\n",
    "\n",
    "from datetime import datetime, timezone, timedelta\n",
    "\n",
    "def get_current_utc_hour_ceiled():\n",
    "    \"\"\"Get current UTC time ceiled to the next hour\"\"\"\n",
    "    current = datetime.now(timezone.utc)\n",
    "    if current.minute > 0 or current.second > 0:\n",
    "        # Ceil to next hour\n",
    "        current = current + timedelta(hours=1)\n",
    "\n",
    "    # Reset minutes, seconds, and microseconds\n",
    "    current = current.replace(minute=0, second=0, microsecond=0)\n",
    "    return current\n",
    "\n",
    "# Usage\n",
    "current_hour = get_current_utc_hour_ceiled()\n",
    "print(f\"Current UTC hour (ceiled): {current_hour}\")"
   ]
  },
  {
   "cell_type": "code",
   "execution_count": 186,
   "id": "5c5559a0-89e2-458d-9bbc-b1ec103659f6",
   "metadata": {},
   "outputs": [],
   "source": [
    "def fetch_predictions():\n",
    "    current_date = pd.Timestamp.now(tz='Etc/UTC').ceil('h')\n",
    "\n",
    "    fs = get_feature_store()\n",
    "    fg = fs.get_feature_group(\n",
    "        name=config.FEATURE_GROUP_MODEL_PREDICTION,\n",
    "        version=1\n",
    "    )\n",
    "\n",
    "    query = fg.select_all()\n",
    "    query = query.filter(fg.pickup_hour == current_hour)\n",
    "\n",
    "    return query.read()"
   ]
  },
  {
   "cell_type": "code",
   "execution_count": 187,
   "id": "53a3af64-b773-43a6-bb10-c9e209cc6cb0",
   "metadata": {},
   "outputs": [
    {
     "name": "stdout",
     "output_type": "stream",
     "text": [
      "2025-03-04 13:03:38,521 INFO: Closing external client and cleaning up certificates.\n",
      "Connection closed.\n",
      "2025-03-04 13:03:38,530 INFO: Initializing external client\n",
      "2025-03-04 13:03:38,531 INFO: Base URL: https://c.app.hopsworks.ai:443\n",
      "2025-03-04 13:03:39,174 INFO: Python Engine initialized.\n",
      "\n",
      "Logged in to project, explore it here https://c.app.hopsworks.ai:443/p/1215649\n"
     ]
    }
   ],
   "source": [
    "fs = get_feature_store()\n",
    "fg = fs.get_feature_group(\n",
    "    name=config.FEATURE_GROUP_MODEL_PREDICTION,\n",
    "    version=1\n",
    ")\n",
    "\n",
    "query = fg.select_all()"
   ]
  },
  {
   "cell_type": "code",
   "execution_count": 188,
   "id": "c6321059-d894-4f75-94c8-b4ea29bf8ea5",
   "metadata": {},
   "outputs": [
    {
     "name": "stdout",
     "output_type": "stream",
     "text": [
      "Finished: Reading data from Hopsworks, using Hopsworks Feature Query Service (0.54s) \n"
     ]
    }
   ],
   "source": [
    "df= query.read()"
   ]
  },
  {
   "cell_type": "code",
   "execution_count": 189,
   "id": "367f3978-9a5d-4d97-b19a-88afcfb1d14f",
   "metadata": {},
   "outputs": [
    {
     "data": {
      "text/plain": [
       "Timestamp('2025-03-04 19:00:00+0000', tz='Etc/UTC')"
      ]
     },
     "execution_count": 189,
     "metadata": {},
     "output_type": "execute_result"
    }
   ],
   "source": [
    "df[\"pickup_hour\"].max()"
   ]
  },
  {
   "cell_type": "code",
   "execution_count": 190,
   "id": "8d03786a-90dc-425a-8e4e-3b4dca4a08fa",
   "metadata": {},
   "outputs": [
    {
     "data": {
      "application/vnd.microsoft.datawrangler.viewer.v0+json": {
       "columns": [
        {
         "name": "index",
         "rawType": "int64",
         "type": "integer"
        },
        {
         "name": "pickup_location_id",
         "rawType": "int32",
         "type": "integer"
        },
        {
         "name": "predicted_demand",
         "rawType": "float64",
         "type": "float"
        },
        {
         "name": "pickup_hour",
         "rawType": "datetime64[us, Etc/UTC]",
         "type": "unknown"
        }
       ],
       "conversionMethod": "pd.DataFrame",
       "ref": "e137e44c-83a1-4de8-ae53-2c465eb48dc8",
       "rows": [
        [
         "0",
         "95",
         "1.0",
         "2025-03-03 03:00:00+00:00"
        ],
        [
         "1",
         "179",
         "1.0",
         "2025-03-03 03:00:00+00:00"
        ],
        [
         "2",
         "127",
         "0.0",
         "2025-03-03 03:00:00+00:00"
        ],
        [
         "3",
         "90",
         "71.0",
         "2025-03-03 03:00:00+00:00"
        ],
        [
         "4",
         "79",
         "98.0",
         "2025-03-03 03:00:00+00:00"
        ],
        [
         "5",
         "55",
         "0.0",
         "2025-03-03 03:00:00+00:00"
        ],
        [
         "6",
         "83",
         "0.0",
         "2025-03-03 03:00:00+00:00"
        ],
        [
         "7",
         "22",
         "0.0",
         "2025-03-03 03:00:00+00:00"
        ],
        [
         "8",
         "50",
         "21.0",
         "2025-03-03 03:00:00+00:00"
        ],
        [
         "9",
         "41",
         "2.0",
         "2025-03-03 03:00:00+00:00"
        ],
        [
         "10",
         "131",
         "0.0",
         "2025-03-03 03:00:00+00:00"
        ],
        [
         "11",
         "227",
         "0.0",
         "2025-03-03 03:00:00+00:00"
        ],
        [
         "12",
         "188",
         "1.0",
         "2025-03-03 03:00:00+00:00"
        ],
        [
         "13",
         "167",
         "0.0",
         "2025-03-03 03:00:00+00:00"
        ],
        [
         "14",
         "171",
         "0.0",
         "2025-03-03 03:00:00+00:00"
        ],
        [
         "15",
         "262",
         "89.0",
         "2025-03-03 03:00:00+00:00"
        ],
        [
         "16",
         "213",
         "1.0",
         "2025-03-03 03:00:00+00:00"
        ],
        [
         "17",
         "86",
         "1.0",
         "2025-03-03 03:00:00+00:00"
        ],
        [
         "18",
         "239",
         "105.0",
         "2025-03-03 03:00:00+00:00"
        ],
        [
         "19",
         "195",
         "0.0",
         "2025-03-03 03:00:00+00:00"
        ],
        [
         "20",
         "67",
         "0.0",
         "2025-03-03 03:00:00+00:00"
        ],
        [
         "21",
         "206",
         "0.0",
         "2025-03-03 03:00:00+00:00"
        ],
        [
         "22",
         "222",
         "0.0",
         "2025-03-03 03:00:00+00:00"
        ],
        [
         "23",
         "250",
         "1.0",
         "2025-03-03 03:00:00+00:00"
        ],
        [
         "24",
         "108",
         "0.0",
         "2025-03-03 03:00:00+00:00"
        ],
        [
         "25",
         "183",
         "0.0",
         "2025-03-03 03:00:00+00:00"
        ],
        [
         "26",
         "62",
         "1.0",
         "2025-03-03 03:00:00+00:00"
        ],
        [
         "27",
         "162",
         "210.0",
         "2025-03-03 03:00:00+00:00"
        ],
        [
         "28",
         "246",
         "22.0",
         "2025-03-03 03:00:00+00:00"
        ],
        [
         "29",
         "122",
         "0.0",
         "2025-03-03 03:00:00+00:00"
        ],
        [
         "30",
         "148",
         "78.0",
         "2025-03-03 03:00:00+00:00"
        ],
        [
         "31",
         "10",
         "1.0",
         "2025-03-03 03:00:00+00:00"
        ],
        [
         "32",
         "143",
         "28.0",
         "2025-03-03 03:00:00+00:00"
        ],
        [
         "33",
         "74",
         "10.0",
         "2025-03-03 03:00:00+00:00"
        ],
        [
         "34",
         "39",
         "1.0",
         "2025-03-03 03:00:00+00:00"
        ],
        [
         "35",
         "46",
         "0.0",
         "2025-03-03 03:00:00+00:00"
        ],
        [
         "36",
         "190",
         "0.0",
         "2025-03-03 03:00:00+00:00"
        ],
        [
         "37",
         "139",
         "0.0",
         "2025-03-03 03:00:00+00:00"
        ],
        [
         "38",
         "234",
         "179.0",
         "2025-03-03 03:00:00+00:00"
        ],
        [
         "39",
         "253",
         "0.0",
         "2025-03-03 03:00:00+00:00"
        ],
        [
         "40",
         "218",
         "0.0",
         "2025-03-03 03:00:00+00:00"
        ],
        [
         "41",
         "15",
         "0.0",
         "2025-03-03 03:00:00+00:00"
        ],
        [
         "42",
         "115",
         "0.0",
         "2025-03-03 03:00:00+00:00"
        ],
        [
         "43",
         "258",
         "0.0",
         "2025-03-03 03:00:00+00:00"
        ],
        [
         "44",
         "155",
         "0.0",
         "2025-03-03 03:00:00+00:00"
        ],
        [
         "45",
         "6",
         "0.0",
         "2025-03-03 03:00:00+00:00"
        ],
        [
         "46",
         "27",
         "0.0",
         "2025-03-03 03:00:00+00:00"
        ],
        [
         "47",
         "201",
         "0.0",
         "2025-03-03 03:00:00+00:00"
        ],
        [
         "48",
         "134",
         "0.0",
         "2025-03-03 03:00:00+00:00"
        ],
        [
         "49",
         "241",
         "0.0",
         "2025-03-03 03:00:00+00:00"
        ]
       ],
       "shape": {
        "columns": 3,
        "rows": 5773
       }
      },
      "text/html": [
       "<div>\n",
       "<style scoped>\n",
       "    .dataframe tbody tr th:only-of-type {\n",
       "        vertical-align: middle;\n",
       "    }\n",
       "\n",
       "    .dataframe tbody tr th {\n",
       "        vertical-align: top;\n",
       "    }\n",
       "\n",
       "    .dataframe thead th {\n",
       "        text-align: right;\n",
       "    }\n",
       "</style>\n",
       "<table border=\"1\" class=\"dataframe\">\n",
       "  <thead>\n",
       "    <tr style=\"text-align: right;\">\n",
       "      <th></th>\n",
       "      <th>pickup_location_id</th>\n",
       "      <th>predicted_demand</th>\n",
       "      <th>pickup_hour</th>\n",
       "    </tr>\n",
       "  </thead>\n",
       "  <tbody>\n",
       "    <tr>\n",
       "      <th>0</th>\n",
       "      <td>95</td>\n",
       "      <td>1.0</td>\n",
       "      <td>2025-03-03 03:00:00+00:00</td>\n",
       "    </tr>\n",
       "    <tr>\n",
       "      <th>1</th>\n",
       "      <td>179</td>\n",
       "      <td>1.0</td>\n",
       "      <td>2025-03-03 03:00:00+00:00</td>\n",
       "    </tr>\n",
       "    <tr>\n",
       "      <th>2</th>\n",
       "      <td>127</td>\n",
       "      <td>0.0</td>\n",
       "      <td>2025-03-03 03:00:00+00:00</td>\n",
       "    </tr>\n",
       "    <tr>\n",
       "      <th>3</th>\n",
       "      <td>90</td>\n",
       "      <td>71.0</td>\n",
       "      <td>2025-03-03 03:00:00+00:00</td>\n",
       "    </tr>\n",
       "    <tr>\n",
       "      <th>4</th>\n",
       "      <td>79</td>\n",
       "      <td>98.0</td>\n",
       "      <td>2025-03-03 03:00:00+00:00</td>\n",
       "    </tr>\n",
       "    <tr>\n",
       "      <th>...</th>\n",
       "      <td>...</td>\n",
       "      <td>...</td>\n",
       "      <td>...</td>\n",
       "    </tr>\n",
       "    <tr>\n",
       "      <th>5768</th>\n",
       "      <td>97</td>\n",
       "      <td>1.0</td>\n",
       "      <td>2025-03-04 19:00:00+00:00</td>\n",
       "    </tr>\n",
       "    <tr>\n",
       "      <th>5769</th>\n",
       "      <td>198</td>\n",
       "      <td>0.0</td>\n",
       "      <td>2025-03-04 19:00:00+00:00</td>\n",
       "    </tr>\n",
       "    <tr>\n",
       "      <th>5770</th>\n",
       "      <td>20</td>\n",
       "      <td>0.0</td>\n",
       "      <td>2025-03-04 19:00:00+00:00</td>\n",
       "    </tr>\n",
       "    <tr>\n",
       "      <th>5771</th>\n",
       "      <td>248</td>\n",
       "      <td>0.0</td>\n",
       "      <td>2025-03-04 19:00:00+00:00</td>\n",
       "    </tr>\n",
       "    <tr>\n",
       "      <th>5772</th>\n",
       "      <td>214</td>\n",
       "      <td>0.0</td>\n",
       "      <td>2025-03-04 19:00:00+00:00</td>\n",
       "    </tr>\n",
       "  </tbody>\n",
       "</table>\n",
       "<p>5773 rows × 3 columns</p>\n",
       "</div>"
      ],
      "text/plain": [
       "      pickup_location_id  predicted_demand               pickup_hour\n",
       "0                     95               1.0 2025-03-03 03:00:00+00:00\n",
       "1                    179               1.0 2025-03-03 03:00:00+00:00\n",
       "2                    127               0.0 2025-03-03 03:00:00+00:00\n",
       "3                     90              71.0 2025-03-03 03:00:00+00:00\n",
       "4                     79              98.0 2025-03-03 03:00:00+00:00\n",
       "...                  ...               ...                       ...\n",
       "5768                  97               1.0 2025-03-04 19:00:00+00:00\n",
       "5769                 198               0.0 2025-03-04 19:00:00+00:00\n",
       "5770                  20               0.0 2025-03-04 19:00:00+00:00\n",
       "5771                 248               0.0 2025-03-04 19:00:00+00:00\n",
       "5772                 214               0.0 2025-03-04 19:00:00+00:00\n",
       "\n",
       "[5773 rows x 3 columns]"
      ]
     },
     "execution_count": 190,
     "metadata": {},
     "output_type": "execute_result"
    }
   ],
   "source": [
    "df"
   ]
  },
  {
   "cell_type": "code",
   "execution_count": 191,
   "id": "90415d0c-053a-4fba-94dd-eb6d231875bd",
   "metadata": {},
   "outputs": [],
   "source": [
    "#a.info()"
   ]
  },
  {
   "cell_type": "code",
   "execution_count": 192,
   "id": "39ea132b-5a59-44cb-b155-fa765164e3cc",
   "metadata": {},
   "outputs": [
    {
     "name": "stdout",
     "output_type": "stream",
     "text": [
      "2025-03-04 13:03:41,926 INFO: Closing external client and cleaning up certificates.\n",
      "Connection closed.\n",
      "2025-03-04 13:03:41,926 INFO: Initializing external client\n",
      "2025-03-04 13:03:41,926 INFO: Base URL: https://c.app.hopsworks.ai:443\n",
      "2025-03-04 13:03:42,561 INFO: Python Engine initialized.\n",
      "\n",
      "Logged in to project, explore it here https://c.app.hopsworks.ai:443/p/1215649\n",
      "Current UTC time: 2025-03-04 18:03:41.926957+00:00\n",
      "Next hour: 2025-03-04 19:00:00+00:00\n",
      "Querying for date range: 2025-03-04 to 2025-03-05\n",
      "Filtering for hour: 2025-03-04 19:00\n",
      "Found 251 records\n"
     ]
    }
   ],
   "source": [
    "from datetime import datetime, timezone, timedelta\n",
    "\n",
    "def fetch_next_hour_predictions():\n",
    "    # Get current UTC time and round up to next hour\n",
    "    now = datetime.now(timezone.utc)\n",
    "    next_hour = (now + timedelta(hours=1)).replace(minute=0, second=0, microsecond=0)\n",
    "\n",
    "    # Extract components from the rounded-up time\n",
    "    year = next_hour.year\n",
    "    month = next_hour.month\n",
    "    day = next_hour.day\n",
    "    hour = next_hour.hour\n",
    "\n",
    "    # Create date strings in YYYY-MM-DD format\n",
    "    current_date = f\"{year}-{month:02d}-{day:02d}\"\n",
    "    next_date = next_hour + timedelta(days=1)\n",
    "    next_date_str = next_date.strftime(\"%Y-%m-%d\")\n",
    "\n",
    "    fs = get_feature_store()\n",
    "    fg = fs.get_feature_group(\n",
    "        name=config.FEATURE_GROUP_MODEL_PREDICTION,\n",
    "        version=1\n",
    "    )\n",
    "\n",
    "    # # First get the full day's data from Hopsworks\n",
    "    # df = fg.filter(\n",
    "    #     (fg.pickup_hour >= current_date) &\n",
    "    #     (fg.pickup_hour < next_date_str)\n",
    "    # ).read()\n",
    "\n",
    "    # Then filter for next hour in the DataFrame\n",
    "    hour_str = f\"{current_date} {hour:02d}:00\"\n",
    "    df_hour = df[df['pickup_hour'] == hour_str]\n",
    "\n",
    "    print(f\"Current UTC time: {now}\")\n",
    "    print(f\"Next hour: {next_hour}\")\n",
    "    print(f\"Querying for date range: {current_date} to {next_date_str}\")\n",
    "    print(f\"Filtering for hour: {hour_str}\")\n",
    "    print(f\"Found {len(df_hour)} records\")\n",
    "    return df_hour\n",
    "\n",
    "# Example usage:\n",
    "predictions = fetch_next_hour_predictions()"
   ]
  },
  {
   "cell_type": "code",
   "execution_count": 193,
   "id": "4c512f98-d569-4a9f-8391-d301b1226c91",
   "metadata": {},
   "outputs": [],
   "source": [
    "now = datetime.now(timezone.utc)"
   ]
  },
  {
   "cell_type": "code",
   "execution_count": 194,
   "id": "0e5671d3-701d-4fca-bb91-a697f622239a",
   "metadata": {},
   "outputs": [
    {
     "data": {
      "application/vnd.microsoft.datawrangler.viewer.v0+json": {
       "columns": [
        {
         "name": "index",
         "rawType": "int64",
         "type": "integer"
        },
        {
         "name": "pickup_location_id",
         "rawType": "int32",
         "type": "integer"
        },
        {
         "name": "predicted_demand",
         "rawType": "float64",
         "type": "float"
        },
        {
         "name": "pickup_hour",
         "rawType": "datetime64[us, Etc/UTC]",
         "type": "unknown"
        }
       ],
       "conversionMethod": "pd.DataFrame",
       "ref": "1d4d41a1-ff59-4af4-a04b-02f9c97ea523",
       "rows": [
        [
         "5522",
         "30",
         "0.0",
         "2025-03-04 19:00:00+00:00"
        ],
        [
         "5523",
         "199",
         "0.0",
         "2025-03-04 19:00:00+00:00"
        ],
        [
         "5524",
         "31",
         "0.0",
         "2025-03-04 19:00:00+00:00"
        ],
        [
         "5525",
         "239",
         "203.0",
         "2025-03-04 19:00:00+00:00"
        ],
        [
         "5526",
         "167",
         "1.0",
         "2025-03-04 19:00:00+00:00"
        ],
        [
         "5527",
         "90",
         "90.0",
         "2025-03-04 19:00:00+00:00"
        ],
        [
         "5528",
         "32",
         "0.0",
         "2025-03-04 19:00:00+00:00"
        ],
        [
         "5529",
         "33",
         "2.0",
         "2025-03-04 19:00:00+00:00"
        ],
        [
         "5530",
         "168",
         "1.0",
         "2025-03-04 19:00:00+00:00"
        ],
        [
         "5531",
         "34",
         "0.0",
         "2025-03-04 19:00:00+00:00"
        ],
        [
         "5532",
         "169",
         "0.0",
         "2025-03-04 19:00:00+00:00"
        ],
        [
         "5533",
         "150",
         "0.0",
         "2025-03-04 19:00:00+00:00"
        ],
        [
         "5534",
         "193",
         "1.0",
         "2025-03-04 19:00:00+00:00"
        ],
        [
         "5535",
         "64",
         "0.0",
         "2025-03-04 19:00:00+00:00"
        ],
        [
         "5536",
         "222",
         "0.0",
         "2025-03-04 19:00:00+00:00"
        ],
        [
         "5537",
         "136",
         "0.0",
         "2025-03-04 19:00:00+00:00"
        ],
        [
         "5538",
         "92",
         "0.0",
         "2025-03-04 19:00:00+00:00"
        ],
        [
         "5539",
         "35",
         "1.0",
         "2025-03-04 19:00:00+00:00"
        ],
        [
         "5540",
         "206",
         "0.0",
         "2025-03-04 19:00:00+00:00"
        ],
        [
         "5541",
         "263",
         "106.0",
         "2025-03-04 19:00:00+00:00"
        ],
        [
         "5542",
         "165",
         "0.0",
         "2025-03-04 19:00:00+00:00"
        ],
        [
         "5543",
         "250",
         "0.0",
         "2025-03-04 19:00:00+00:00"
        ],
        [
         "5544",
         "236",
         "291.0",
         "2025-03-04 19:00:00+00:00"
        ],
        [
         "5545",
         "252",
         "0.0",
         "2025-03-04 19:00:00+00:00"
        ],
        [
         "5546",
         "94",
         "0.0",
         "2025-03-04 19:00:00+00:00"
        ],
        [
         "5547",
         "124",
         "0.0",
         "2025-03-04 19:00:00+00:00"
        ],
        [
         "5548",
         "78",
         "0.0",
         "2025-03-04 19:00:00+00:00"
        ],
        [
         "5549",
         "181",
         "2.0",
         "2025-03-04 19:00:00+00:00"
        ],
        [
         "5550",
         "37",
         "0.0",
         "2025-03-04 19:00:00+00:00"
        ],
        [
         "5551",
         "138",
         "189.0",
         "2025-03-04 19:00:00+00:00"
        ],
        [
         "5552",
         "152",
         "1.0",
         "2025-03-04 19:00:00+00:00"
        ],
        [
         "5553",
         "224",
         "2.0",
         "2025-03-04 19:00:00+00:00"
        ],
        [
         "5554",
         "66",
         "1.0",
         "2025-03-04 19:00:00+00:00"
        ],
        [
         "5555",
         "120",
         "0.0",
         "2025-03-04 19:00:00+00:00"
        ],
        [
         "5556",
         "238",
         "101.0",
         "2025-03-04 19:00:00+00:00"
        ],
        [
         "5557",
         "154",
         "0.0",
         "2025-03-04 19:00:00+00:00"
        ],
        [
         "5558",
         "46",
         "0.0",
         "2025-03-04 19:00:00+00:00"
        ],
        [
         "5559",
         "261",
         "11.0",
         "2025-03-04 19:00:00+00:00"
        ],
        [
         "5560",
         "161",
         "326.0",
         "2025-03-04 19:00:00+00:00"
        ],
        [
         "5561",
         "39",
         "1.0",
         "2025-03-04 19:00:00+00:00"
        ],
        [
         "5562",
         "195",
         "0.0",
         "2025-03-04 19:00:00+00:00"
        ],
        [
         "5563",
         "106",
         "0.0",
         "2025-03-04 19:00:00+00:00"
        ],
        [
         "5564",
         "60",
         "0.0",
         "2025-03-04 19:00:00+00:00"
        ],
        [
         "5565",
         "220",
         "0.0",
         "2025-03-04 19:00:00+00:00"
        ],
        [
         "5566",
         "208",
         "0.0",
         "2025-03-04 19:00:00+00:00"
        ],
        [
         "5567",
         "254",
         "0.0",
         "2025-03-04 19:00:00+00:00"
        ],
        [
         "5568",
         "48",
         "135.0",
         "2025-03-04 19:00:00+00:00"
        ],
        [
         "5569",
         "122",
         "0.0",
         "2025-03-04 19:00:00+00:00"
        ],
        [
         "5570",
         "197",
         "1.0",
         "2025-03-04 19:00:00+00:00"
        ],
        [
         "5571",
         "62",
         "1.0",
         "2025-03-04 19:00:00+00:00"
        ]
       ],
       "shape": {
        "columns": 3,
        "rows": 251
       }
      },
      "text/html": [
       "<div>\n",
       "<style scoped>\n",
       "    .dataframe tbody tr th:only-of-type {\n",
       "        vertical-align: middle;\n",
       "    }\n",
       "\n",
       "    .dataframe tbody tr th {\n",
       "        vertical-align: top;\n",
       "    }\n",
       "\n",
       "    .dataframe thead th {\n",
       "        text-align: right;\n",
       "    }\n",
       "</style>\n",
       "<table border=\"1\" class=\"dataframe\">\n",
       "  <thead>\n",
       "    <tr style=\"text-align: right;\">\n",
       "      <th></th>\n",
       "      <th>pickup_location_id</th>\n",
       "      <th>predicted_demand</th>\n",
       "      <th>pickup_hour</th>\n",
       "    </tr>\n",
       "  </thead>\n",
       "  <tbody>\n",
       "    <tr>\n",
       "      <th>5522</th>\n",
       "      <td>30</td>\n",
       "      <td>0.0</td>\n",
       "      <td>2025-03-04 19:00:00+00:00</td>\n",
       "    </tr>\n",
       "    <tr>\n",
       "      <th>5523</th>\n",
       "      <td>199</td>\n",
       "      <td>0.0</td>\n",
       "      <td>2025-03-04 19:00:00+00:00</td>\n",
       "    </tr>\n",
       "    <tr>\n",
       "      <th>5524</th>\n",
       "      <td>31</td>\n",
       "      <td>0.0</td>\n",
       "      <td>2025-03-04 19:00:00+00:00</td>\n",
       "    </tr>\n",
       "    <tr>\n",
       "      <th>5525</th>\n",
       "      <td>239</td>\n",
       "      <td>203.0</td>\n",
       "      <td>2025-03-04 19:00:00+00:00</td>\n",
       "    </tr>\n",
       "    <tr>\n",
       "      <th>5526</th>\n",
       "      <td>167</td>\n",
       "      <td>1.0</td>\n",
       "      <td>2025-03-04 19:00:00+00:00</td>\n",
       "    </tr>\n",
       "    <tr>\n",
       "      <th>...</th>\n",
       "      <td>...</td>\n",
       "      <td>...</td>\n",
       "      <td>...</td>\n",
       "    </tr>\n",
       "    <tr>\n",
       "      <th>5768</th>\n",
       "      <td>97</td>\n",
       "      <td>1.0</td>\n",
       "      <td>2025-03-04 19:00:00+00:00</td>\n",
       "    </tr>\n",
       "    <tr>\n",
       "      <th>5769</th>\n",
       "      <td>198</td>\n",
       "      <td>0.0</td>\n",
       "      <td>2025-03-04 19:00:00+00:00</td>\n",
       "    </tr>\n",
       "    <tr>\n",
       "      <th>5770</th>\n",
       "      <td>20</td>\n",
       "      <td>0.0</td>\n",
       "      <td>2025-03-04 19:00:00+00:00</td>\n",
       "    </tr>\n",
       "    <tr>\n",
       "      <th>5771</th>\n",
       "      <td>248</td>\n",
       "      <td>0.0</td>\n",
       "      <td>2025-03-04 19:00:00+00:00</td>\n",
       "    </tr>\n",
       "    <tr>\n",
       "      <th>5772</th>\n",
       "      <td>214</td>\n",
       "      <td>0.0</td>\n",
       "      <td>2025-03-04 19:00:00+00:00</td>\n",
       "    </tr>\n",
       "  </tbody>\n",
       "</table>\n",
       "<p>251 rows × 3 columns</p>\n",
       "</div>"
      ],
      "text/plain": [
       "      pickup_location_id  predicted_demand               pickup_hour\n",
       "5522                  30               0.0 2025-03-04 19:00:00+00:00\n",
       "5523                 199               0.0 2025-03-04 19:00:00+00:00\n",
       "5524                  31               0.0 2025-03-04 19:00:00+00:00\n",
       "5525                 239             203.0 2025-03-04 19:00:00+00:00\n",
       "5526                 167               1.0 2025-03-04 19:00:00+00:00\n",
       "...                  ...               ...                       ...\n",
       "5768                  97               1.0 2025-03-04 19:00:00+00:00\n",
       "5769                 198               0.0 2025-03-04 19:00:00+00:00\n",
       "5770                  20               0.0 2025-03-04 19:00:00+00:00\n",
       "5771                 248               0.0 2025-03-04 19:00:00+00:00\n",
       "5772                 214               0.0 2025-03-04 19:00:00+00:00\n",
       "\n",
       "[251 rows x 3 columns]"
      ]
     },
     "execution_count": 194,
     "metadata": {},
     "output_type": "execute_result"
    }
   ],
   "source": [
    "predictions"
   ]
  },
  {
   "cell_type": "code",
   "execution_count": 195,
   "id": "48c2c460-25c6-4c26-84e8-ae82a1fdcf33",
   "metadata": {},
   "outputs": [
    {
     "name": "stdout",
     "output_type": "stream",
     "text": [
      "<class 'pandas.core.frame.DataFrame'>\n",
      "RangeIndex: 5773 entries, 0 to 5772\n",
      "Data columns (total 3 columns):\n",
      " #   Column              Non-Null Count  Dtype                  \n",
      "---  ------              --------------  -----                  \n",
      " 0   pickup_location_id  5773 non-null   int32                  \n",
      " 1   predicted_demand    5773 non-null   float64                \n",
      " 2   pickup_hour         5773 non-null   datetime64[us, Etc/UTC]\n",
      "dtypes: datetime64[us, Etc/UTC](1), float64(1), int32(1)\n",
      "memory usage: 112.9 KB\n"
     ]
    }
   ],
   "source": [
    "df.info()"
   ]
  },
  {
   "cell_type": "code",
   "execution_count": 196,
   "id": "5930b159-b4e4-4b51-acd9-0b7b167b6236",
   "metadata": {},
   "outputs": [],
   "source": [
    "import pandas as pd\n",
    "current_date = pd.Timestamp.now(tz='Etc/UTC').ceil('h')"
   ]
  },
  {
   "cell_type": "code",
   "execution_count": 197,
   "id": "14cb7cca-beba-4017-9fa0-5ad7b6acfe90",
   "metadata": {},
   "outputs": [],
   "source": [
    "dt = current_date.ceil('h')\n"
   ]
  },
  {
   "cell_type": "code",
   "execution_count": 198,
   "id": "455e4d11-8a5a-434c-b634-bbf9edd02bd7",
   "metadata": {},
   "outputs": [],
   "source": [
    "# fs = get_feature_store()  \n",
    "# fg = fs.get_feature_group(  \n",
    "#     name=config.FEATURE_GROUP_MODEL_PREDICTION,  \n",
    "#     version=1  \n",
    "# )  \n",
    "# query = fg.select_all() \n",
    "# # query = query.filter(fg.pickup_hour >= \"2025-02-13 04:00\")\n",
    "# query = query.filter(fg.pickup_hour > \"2025-02-13 05:00:00\")  \n",
    "# results = query.read()"
   ]
  },
  {
   "cell_type": "code",
   "execution_count": 199,
   "id": "fab34fc8-2594-4dfd-8046-fa7ede562979",
   "metadata": {},
   "outputs": [],
   "source": [
    "# fg.filter((fg.pickup_hour >= \"2025-02-13\") & (fg.pickup_hour < \"2025-02-14\")).read()"
   ]
  },
  {
   "cell_type": "code",
   "execution_count": 200,
   "id": "bb732f4b-65ee-4956-87b5-c9a9c2f367b3",
   "metadata": {},
   "outputs": [],
   "source": [
    "# results"
   ]
  },
  {
   "cell_type": "code",
   "execution_count": 201,
   "id": "3015ad82-b0b7-42e0-b6e3-6e69550da93a",
   "metadata": {},
   "outputs": [],
   "source": [
    "# def fetch_next_hour_predictions():\n",
    "#     # Get current UTC time and round up to next hour\n",
    "#     now = datetime.now(timezone.utc)\n",
    "#     next_hour = (now + timedelta(hours=2)).replace(minute=0, second=0, microsecond=0)\n",
    "\n",
    "#     fs = get_feature_store()\n",
    "#     fg = fs.get_feature_group(name=config.FEATURE_GROUP_MODEL_PREDICTION, version=1)\n",
    "\n",
    "#     # Then filter for next hour in the DataFrame\n",
    "#     df_hour = df[df[\"pickup_hour\"] == next_hour]\n",
    "\n",
    "#     print(f\"Current UTC time: {now}\")\n",
    "#     print(f\"Next hour: {next_hour}\")\n",
    "#     print(f\"Found {len(df_hour)} records\")\n",
    "#     return df_hour"
   ]
  },
  {
   "cell_type": "code",
   "execution_count": 202,
   "id": "1a42dc2b-f1b3-40a2-8610-1bed9c822355",
   "metadata": {},
   "outputs": [],
   "source": [
    "# predictions = fetch_next_hour_predictions()"
   ]
  },
  {
   "cell_type": "code",
   "execution_count": 203,
   "id": "6495da67-1068-41e0-9092-458c11626900",
   "metadata": {},
   "outputs": [],
   "source": [
    "# fs = get_feature_store()\n",
    "# fg = fs.get_feature_group(name=config.FEATURE_GROUP_MODEL_PREDICTION, version=1)\n",
    "\n"
   ]
  },
  {
   "cell_type": "code",
   "execution_count": 204,
   "id": "9761c899-38c7-4560-9226-d41ce20811df",
   "metadata": {},
   "outputs": [],
   "source": [
    "# df = fg.read()"
   ]
  },
  {
   "cell_type": "code",
   "execution_count": 205,
   "id": "f9bc2a28",
   "metadata": {},
   "outputs": [
    {
     "data": {
      "application/vnd.microsoft.datawrangler.viewer.v0+json": {
       "columns": [
        {
         "name": "index",
         "rawType": "int64",
         "type": "integer"
        },
        {
         "name": "pickup_location_id",
         "rawType": "int32",
         "type": "integer"
        },
        {
         "name": "predicted_demand",
         "rawType": "float64",
         "type": "float"
        },
        {
         "name": "pickup_hour",
         "rawType": "datetime64[us, Etc/UTC]",
         "type": "unknown"
        }
       ],
       "conversionMethod": "pd.DataFrame",
       "ref": "a44f2de3-11f8-4221-8b0b-03c06f0275f3",
       "rows": [
        [
         "0",
         "95",
         "1.0",
         "2025-03-03 03:00:00+00:00"
        ],
        [
         "1",
         "179",
         "1.0",
         "2025-03-03 03:00:00+00:00"
        ],
        [
         "2",
         "127",
         "0.0",
         "2025-03-03 03:00:00+00:00"
        ],
        [
         "3",
         "90",
         "71.0",
         "2025-03-03 03:00:00+00:00"
        ],
        [
         "4",
         "79",
         "98.0",
         "2025-03-03 03:00:00+00:00"
        ],
        [
         "5",
         "55",
         "0.0",
         "2025-03-03 03:00:00+00:00"
        ],
        [
         "6",
         "83",
         "0.0",
         "2025-03-03 03:00:00+00:00"
        ],
        [
         "7",
         "22",
         "0.0",
         "2025-03-03 03:00:00+00:00"
        ],
        [
         "8",
         "50",
         "21.0",
         "2025-03-03 03:00:00+00:00"
        ],
        [
         "9",
         "41",
         "2.0",
         "2025-03-03 03:00:00+00:00"
        ],
        [
         "10",
         "131",
         "0.0",
         "2025-03-03 03:00:00+00:00"
        ],
        [
         "11",
         "227",
         "0.0",
         "2025-03-03 03:00:00+00:00"
        ],
        [
         "12",
         "188",
         "1.0",
         "2025-03-03 03:00:00+00:00"
        ],
        [
         "13",
         "167",
         "0.0",
         "2025-03-03 03:00:00+00:00"
        ],
        [
         "14",
         "171",
         "0.0",
         "2025-03-03 03:00:00+00:00"
        ],
        [
         "15",
         "262",
         "89.0",
         "2025-03-03 03:00:00+00:00"
        ],
        [
         "16",
         "213",
         "1.0",
         "2025-03-03 03:00:00+00:00"
        ],
        [
         "17",
         "86",
         "1.0",
         "2025-03-03 03:00:00+00:00"
        ],
        [
         "18",
         "239",
         "105.0",
         "2025-03-03 03:00:00+00:00"
        ],
        [
         "19",
         "195",
         "0.0",
         "2025-03-03 03:00:00+00:00"
        ],
        [
         "20",
         "67",
         "0.0",
         "2025-03-03 03:00:00+00:00"
        ],
        [
         "21",
         "206",
         "0.0",
         "2025-03-03 03:00:00+00:00"
        ],
        [
         "22",
         "222",
         "0.0",
         "2025-03-03 03:00:00+00:00"
        ],
        [
         "23",
         "250",
         "1.0",
         "2025-03-03 03:00:00+00:00"
        ],
        [
         "24",
         "108",
         "0.0",
         "2025-03-03 03:00:00+00:00"
        ],
        [
         "25",
         "183",
         "0.0",
         "2025-03-03 03:00:00+00:00"
        ],
        [
         "26",
         "62",
         "1.0",
         "2025-03-03 03:00:00+00:00"
        ],
        [
         "27",
         "162",
         "210.0",
         "2025-03-03 03:00:00+00:00"
        ],
        [
         "28",
         "246",
         "22.0",
         "2025-03-03 03:00:00+00:00"
        ],
        [
         "29",
         "122",
         "0.0",
         "2025-03-03 03:00:00+00:00"
        ],
        [
         "30",
         "148",
         "78.0",
         "2025-03-03 03:00:00+00:00"
        ],
        [
         "31",
         "10",
         "1.0",
         "2025-03-03 03:00:00+00:00"
        ],
        [
         "32",
         "143",
         "28.0",
         "2025-03-03 03:00:00+00:00"
        ],
        [
         "33",
         "74",
         "10.0",
         "2025-03-03 03:00:00+00:00"
        ],
        [
         "34",
         "39",
         "1.0",
         "2025-03-03 03:00:00+00:00"
        ],
        [
         "35",
         "46",
         "0.0",
         "2025-03-03 03:00:00+00:00"
        ],
        [
         "36",
         "190",
         "0.0",
         "2025-03-03 03:00:00+00:00"
        ],
        [
         "37",
         "139",
         "0.0",
         "2025-03-03 03:00:00+00:00"
        ],
        [
         "38",
         "234",
         "179.0",
         "2025-03-03 03:00:00+00:00"
        ],
        [
         "39",
         "253",
         "0.0",
         "2025-03-03 03:00:00+00:00"
        ],
        [
         "40",
         "218",
         "0.0",
         "2025-03-03 03:00:00+00:00"
        ],
        [
         "41",
         "15",
         "0.0",
         "2025-03-03 03:00:00+00:00"
        ],
        [
         "42",
         "115",
         "0.0",
         "2025-03-03 03:00:00+00:00"
        ],
        [
         "43",
         "258",
         "0.0",
         "2025-03-03 03:00:00+00:00"
        ],
        [
         "44",
         "155",
         "0.0",
         "2025-03-03 03:00:00+00:00"
        ],
        [
         "45",
         "6",
         "0.0",
         "2025-03-03 03:00:00+00:00"
        ],
        [
         "46",
         "27",
         "0.0",
         "2025-03-03 03:00:00+00:00"
        ],
        [
         "47",
         "201",
         "0.0",
         "2025-03-03 03:00:00+00:00"
        ],
        [
         "48",
         "134",
         "0.0",
         "2025-03-03 03:00:00+00:00"
        ],
        [
         "49",
         "241",
         "0.0",
         "2025-03-03 03:00:00+00:00"
        ]
       ],
       "shape": {
        "columns": 3,
        "rows": 5773
       }
      },
      "text/html": [
       "<div>\n",
       "<style scoped>\n",
       "    .dataframe tbody tr th:only-of-type {\n",
       "        vertical-align: middle;\n",
       "    }\n",
       "\n",
       "    .dataframe tbody tr th {\n",
       "        vertical-align: top;\n",
       "    }\n",
       "\n",
       "    .dataframe thead th {\n",
       "        text-align: right;\n",
       "    }\n",
       "</style>\n",
       "<table border=\"1\" class=\"dataframe\">\n",
       "  <thead>\n",
       "    <tr style=\"text-align: right;\">\n",
       "      <th></th>\n",
       "      <th>pickup_location_id</th>\n",
       "      <th>predicted_demand</th>\n",
       "      <th>pickup_hour</th>\n",
       "    </tr>\n",
       "  </thead>\n",
       "  <tbody>\n",
       "    <tr>\n",
       "      <th>0</th>\n",
       "      <td>95</td>\n",
       "      <td>1.0</td>\n",
       "      <td>2025-03-03 03:00:00+00:00</td>\n",
       "    </tr>\n",
       "    <tr>\n",
       "      <th>1</th>\n",
       "      <td>179</td>\n",
       "      <td>1.0</td>\n",
       "      <td>2025-03-03 03:00:00+00:00</td>\n",
       "    </tr>\n",
       "    <tr>\n",
       "      <th>2</th>\n",
       "      <td>127</td>\n",
       "      <td>0.0</td>\n",
       "      <td>2025-03-03 03:00:00+00:00</td>\n",
       "    </tr>\n",
       "    <tr>\n",
       "      <th>3</th>\n",
       "      <td>90</td>\n",
       "      <td>71.0</td>\n",
       "      <td>2025-03-03 03:00:00+00:00</td>\n",
       "    </tr>\n",
       "    <tr>\n",
       "      <th>4</th>\n",
       "      <td>79</td>\n",
       "      <td>98.0</td>\n",
       "      <td>2025-03-03 03:00:00+00:00</td>\n",
       "    </tr>\n",
       "    <tr>\n",
       "      <th>...</th>\n",
       "      <td>...</td>\n",
       "      <td>...</td>\n",
       "      <td>...</td>\n",
       "    </tr>\n",
       "    <tr>\n",
       "      <th>5768</th>\n",
       "      <td>97</td>\n",
       "      <td>1.0</td>\n",
       "      <td>2025-03-04 19:00:00+00:00</td>\n",
       "    </tr>\n",
       "    <tr>\n",
       "      <th>5769</th>\n",
       "      <td>198</td>\n",
       "      <td>0.0</td>\n",
       "      <td>2025-03-04 19:00:00+00:00</td>\n",
       "    </tr>\n",
       "    <tr>\n",
       "      <th>5770</th>\n",
       "      <td>20</td>\n",
       "      <td>0.0</td>\n",
       "      <td>2025-03-04 19:00:00+00:00</td>\n",
       "    </tr>\n",
       "    <tr>\n",
       "      <th>5771</th>\n",
       "      <td>248</td>\n",
       "      <td>0.0</td>\n",
       "      <td>2025-03-04 19:00:00+00:00</td>\n",
       "    </tr>\n",
       "    <tr>\n",
       "      <th>5772</th>\n",
       "      <td>214</td>\n",
       "      <td>0.0</td>\n",
       "      <td>2025-03-04 19:00:00+00:00</td>\n",
       "    </tr>\n",
       "  </tbody>\n",
       "</table>\n",
       "<p>5773 rows × 3 columns</p>\n",
       "</div>"
      ],
      "text/plain": [
       "      pickup_location_id  predicted_demand               pickup_hour\n",
       "0                     95               1.0 2025-03-03 03:00:00+00:00\n",
       "1                    179               1.0 2025-03-03 03:00:00+00:00\n",
       "2                    127               0.0 2025-03-03 03:00:00+00:00\n",
       "3                     90              71.0 2025-03-03 03:00:00+00:00\n",
       "4                     79              98.0 2025-03-03 03:00:00+00:00\n",
       "...                  ...               ...                       ...\n",
       "5768                  97               1.0 2025-03-04 19:00:00+00:00\n",
       "5769                 198               0.0 2025-03-04 19:00:00+00:00\n",
       "5770                  20               0.0 2025-03-04 19:00:00+00:00\n",
       "5771                 248               0.0 2025-03-04 19:00:00+00:00\n",
       "5772                 214               0.0 2025-03-04 19:00:00+00:00\n",
       "\n",
       "[5773 rows x 3 columns]"
      ]
     },
     "execution_count": 205,
     "metadata": {},
     "output_type": "execute_result"
    }
   ],
   "source": [
    "df"
   ]
  },
  {
   "cell_type": "code",
   "execution_count": 206,
   "id": "90052c02-a072-423f-95d5-086c1ca786eb",
   "metadata": {},
   "outputs": [
    {
     "data": {
      "text/plain": [
       "Timestamp('2025-03-04 19:00:00+0000', tz='Etc/UTC')"
      ]
     },
     "execution_count": 206,
     "metadata": {},
     "output_type": "execute_result"
    }
   ],
   "source": [
    "df[\"pickup_hour\"].max()"
   ]
  },
  {
   "cell_type": "code",
   "execution_count": 207,
   "id": "30f5c3e8-156e-44a5-ac8a-ccb1479a6936",
   "metadata": {},
   "outputs": [
    {
     "name": "stdout",
     "output_type": "stream",
     "text": [
      "2025-03-04 19:00:00+00:00\n"
     ]
    }
   ],
   "source": [
    "now = datetime.now(timezone.utc)\n",
    "next_hour = (now + timedelta(hours=1)).replace(minute=0, second=0, microsecond=0)\n",
    "print(next_hour)"
   ]
  },
  {
   "cell_type": "code",
   "execution_count": 208,
   "id": "02ebe046-ae58-489e-99e7-a4f27755a10f",
   "metadata": {},
   "outputs": [
    {
     "data": {
      "application/vnd.microsoft.datawrangler.viewer.v0+json": {
       "columns": [
        {
         "name": "index",
         "rawType": "int64",
         "type": "integer"
        },
        {
         "name": "pickup_location_id",
         "rawType": "int32",
         "type": "integer"
        },
        {
         "name": "predicted_demand",
         "rawType": "float64",
         "type": "float"
        },
        {
         "name": "pickup_hour",
         "rawType": "datetime64[us, Etc/UTC]",
         "type": "unknown"
        }
       ],
       "conversionMethod": "pd.DataFrame",
       "ref": "c3bab336-18b3-4a44-85cd-da252377a1f9",
       "rows": [
        [
         "5522",
         "30",
         "0.0",
         "2025-03-04 19:00:00+00:00"
        ],
        [
         "5523",
         "199",
         "0.0",
         "2025-03-04 19:00:00+00:00"
        ],
        [
         "5524",
         "31",
         "0.0",
         "2025-03-04 19:00:00+00:00"
        ],
        [
         "5525",
         "239",
         "203.0",
         "2025-03-04 19:00:00+00:00"
        ],
        [
         "5526",
         "167",
         "1.0",
         "2025-03-04 19:00:00+00:00"
        ],
        [
         "5527",
         "90",
         "90.0",
         "2025-03-04 19:00:00+00:00"
        ],
        [
         "5528",
         "32",
         "0.0",
         "2025-03-04 19:00:00+00:00"
        ],
        [
         "5529",
         "33",
         "2.0",
         "2025-03-04 19:00:00+00:00"
        ],
        [
         "5530",
         "168",
         "1.0",
         "2025-03-04 19:00:00+00:00"
        ],
        [
         "5531",
         "34",
         "0.0",
         "2025-03-04 19:00:00+00:00"
        ],
        [
         "5532",
         "169",
         "0.0",
         "2025-03-04 19:00:00+00:00"
        ],
        [
         "5533",
         "150",
         "0.0",
         "2025-03-04 19:00:00+00:00"
        ],
        [
         "5534",
         "193",
         "1.0",
         "2025-03-04 19:00:00+00:00"
        ],
        [
         "5535",
         "64",
         "0.0",
         "2025-03-04 19:00:00+00:00"
        ],
        [
         "5536",
         "222",
         "0.0",
         "2025-03-04 19:00:00+00:00"
        ],
        [
         "5537",
         "136",
         "0.0",
         "2025-03-04 19:00:00+00:00"
        ],
        [
         "5538",
         "92",
         "0.0",
         "2025-03-04 19:00:00+00:00"
        ],
        [
         "5539",
         "35",
         "1.0",
         "2025-03-04 19:00:00+00:00"
        ],
        [
         "5540",
         "206",
         "0.0",
         "2025-03-04 19:00:00+00:00"
        ],
        [
         "5541",
         "263",
         "106.0",
         "2025-03-04 19:00:00+00:00"
        ],
        [
         "5542",
         "165",
         "0.0",
         "2025-03-04 19:00:00+00:00"
        ],
        [
         "5543",
         "250",
         "0.0",
         "2025-03-04 19:00:00+00:00"
        ],
        [
         "5544",
         "236",
         "291.0",
         "2025-03-04 19:00:00+00:00"
        ],
        [
         "5545",
         "252",
         "0.0",
         "2025-03-04 19:00:00+00:00"
        ],
        [
         "5546",
         "94",
         "0.0",
         "2025-03-04 19:00:00+00:00"
        ],
        [
         "5547",
         "124",
         "0.0",
         "2025-03-04 19:00:00+00:00"
        ],
        [
         "5548",
         "78",
         "0.0",
         "2025-03-04 19:00:00+00:00"
        ],
        [
         "5549",
         "181",
         "2.0",
         "2025-03-04 19:00:00+00:00"
        ],
        [
         "5550",
         "37",
         "0.0",
         "2025-03-04 19:00:00+00:00"
        ],
        [
         "5551",
         "138",
         "189.0",
         "2025-03-04 19:00:00+00:00"
        ],
        [
         "5552",
         "152",
         "1.0",
         "2025-03-04 19:00:00+00:00"
        ],
        [
         "5553",
         "224",
         "2.0",
         "2025-03-04 19:00:00+00:00"
        ],
        [
         "5554",
         "66",
         "1.0",
         "2025-03-04 19:00:00+00:00"
        ],
        [
         "5555",
         "120",
         "0.0",
         "2025-03-04 19:00:00+00:00"
        ],
        [
         "5556",
         "238",
         "101.0",
         "2025-03-04 19:00:00+00:00"
        ],
        [
         "5557",
         "154",
         "0.0",
         "2025-03-04 19:00:00+00:00"
        ],
        [
         "5558",
         "46",
         "0.0",
         "2025-03-04 19:00:00+00:00"
        ],
        [
         "5559",
         "261",
         "11.0",
         "2025-03-04 19:00:00+00:00"
        ],
        [
         "5560",
         "161",
         "326.0",
         "2025-03-04 19:00:00+00:00"
        ],
        [
         "5561",
         "39",
         "1.0",
         "2025-03-04 19:00:00+00:00"
        ],
        [
         "5562",
         "195",
         "0.0",
         "2025-03-04 19:00:00+00:00"
        ],
        [
         "5563",
         "106",
         "0.0",
         "2025-03-04 19:00:00+00:00"
        ],
        [
         "5564",
         "60",
         "0.0",
         "2025-03-04 19:00:00+00:00"
        ],
        [
         "5565",
         "220",
         "0.0",
         "2025-03-04 19:00:00+00:00"
        ],
        [
         "5566",
         "208",
         "0.0",
         "2025-03-04 19:00:00+00:00"
        ],
        [
         "5567",
         "254",
         "0.0",
         "2025-03-04 19:00:00+00:00"
        ],
        [
         "5568",
         "48",
         "135.0",
         "2025-03-04 19:00:00+00:00"
        ],
        [
         "5569",
         "122",
         "0.0",
         "2025-03-04 19:00:00+00:00"
        ],
        [
         "5570",
         "197",
         "1.0",
         "2025-03-04 19:00:00+00:00"
        ],
        [
         "5571",
         "62",
         "1.0",
         "2025-03-04 19:00:00+00:00"
        ]
       ],
       "shape": {
        "columns": 3,
        "rows": 251
       }
      },
      "text/html": [
       "<div>\n",
       "<style scoped>\n",
       "    .dataframe tbody tr th:only-of-type {\n",
       "        vertical-align: middle;\n",
       "    }\n",
       "\n",
       "    .dataframe tbody tr th {\n",
       "        vertical-align: top;\n",
       "    }\n",
       "\n",
       "    .dataframe thead th {\n",
       "        text-align: right;\n",
       "    }\n",
       "</style>\n",
       "<table border=\"1\" class=\"dataframe\">\n",
       "  <thead>\n",
       "    <tr style=\"text-align: right;\">\n",
       "      <th></th>\n",
       "      <th>pickup_location_id</th>\n",
       "      <th>predicted_demand</th>\n",
       "      <th>pickup_hour</th>\n",
       "    </tr>\n",
       "  </thead>\n",
       "  <tbody>\n",
       "    <tr>\n",
       "      <th>5522</th>\n",
       "      <td>30</td>\n",
       "      <td>0.0</td>\n",
       "      <td>2025-03-04 19:00:00+00:00</td>\n",
       "    </tr>\n",
       "    <tr>\n",
       "      <th>5523</th>\n",
       "      <td>199</td>\n",
       "      <td>0.0</td>\n",
       "      <td>2025-03-04 19:00:00+00:00</td>\n",
       "    </tr>\n",
       "    <tr>\n",
       "      <th>5524</th>\n",
       "      <td>31</td>\n",
       "      <td>0.0</td>\n",
       "      <td>2025-03-04 19:00:00+00:00</td>\n",
       "    </tr>\n",
       "    <tr>\n",
       "      <th>5525</th>\n",
       "      <td>239</td>\n",
       "      <td>203.0</td>\n",
       "      <td>2025-03-04 19:00:00+00:00</td>\n",
       "    </tr>\n",
       "    <tr>\n",
       "      <th>5526</th>\n",
       "      <td>167</td>\n",
       "      <td>1.0</td>\n",
       "      <td>2025-03-04 19:00:00+00:00</td>\n",
       "    </tr>\n",
       "    <tr>\n",
       "      <th>...</th>\n",
       "      <td>...</td>\n",
       "      <td>...</td>\n",
       "      <td>...</td>\n",
       "    </tr>\n",
       "    <tr>\n",
       "      <th>5768</th>\n",
       "      <td>97</td>\n",
       "      <td>1.0</td>\n",
       "      <td>2025-03-04 19:00:00+00:00</td>\n",
       "    </tr>\n",
       "    <tr>\n",
       "      <th>5769</th>\n",
       "      <td>198</td>\n",
       "      <td>0.0</td>\n",
       "      <td>2025-03-04 19:00:00+00:00</td>\n",
       "    </tr>\n",
       "    <tr>\n",
       "      <th>5770</th>\n",
       "      <td>20</td>\n",
       "      <td>0.0</td>\n",
       "      <td>2025-03-04 19:00:00+00:00</td>\n",
       "    </tr>\n",
       "    <tr>\n",
       "      <th>5771</th>\n",
       "      <td>248</td>\n",
       "      <td>0.0</td>\n",
       "      <td>2025-03-04 19:00:00+00:00</td>\n",
       "    </tr>\n",
       "    <tr>\n",
       "      <th>5772</th>\n",
       "      <td>214</td>\n",
       "      <td>0.0</td>\n",
       "      <td>2025-03-04 19:00:00+00:00</td>\n",
       "    </tr>\n",
       "  </tbody>\n",
       "</table>\n",
       "<p>251 rows × 3 columns</p>\n",
       "</div>"
      ],
      "text/plain": [
       "      pickup_location_id  predicted_demand               pickup_hour\n",
       "5522                  30               0.0 2025-03-04 19:00:00+00:00\n",
       "5523                 199               0.0 2025-03-04 19:00:00+00:00\n",
       "5524                  31               0.0 2025-03-04 19:00:00+00:00\n",
       "5525                 239             203.0 2025-03-04 19:00:00+00:00\n",
       "5526                 167               1.0 2025-03-04 19:00:00+00:00\n",
       "...                  ...               ...                       ...\n",
       "5768                  97               1.0 2025-03-04 19:00:00+00:00\n",
       "5769                 198               0.0 2025-03-04 19:00:00+00:00\n",
       "5770                  20               0.0 2025-03-04 19:00:00+00:00\n",
       "5771                 248               0.0 2025-03-04 19:00:00+00:00\n",
       "5772                 214               0.0 2025-03-04 19:00:00+00:00\n",
       "\n",
       "[251 rows x 3 columns]"
      ]
     },
     "execution_count": 208,
     "metadata": {},
     "output_type": "execute_result"
    }
   ],
   "source": [
    "df[df[\"pickup_hour\"] == next_hour]"
   ]
  }
 ],
 "metadata": {
  "kernelspec": {
   "display_name": "PythonTestEnvForPy11",
   "language": "python",
   "name": "python3"
  },
  "language_info": {
   "codemirror_mode": {
    "name": "ipython",
    "version": 3
   },
   "file_extension": ".py",
   "mimetype": "text/x-python",
   "name": "python",
   "nbconvert_exporter": "python",
   "pygments_lexer": "ipython3",
   "version": "3.11.0"
  }
 },
 "nbformat": 4,
 "nbformat_minor": 5
}
