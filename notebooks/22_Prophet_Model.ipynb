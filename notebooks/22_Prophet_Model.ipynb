{
 "cells": [
  {
   "cell_type": "code",
   "execution_count": 14,
   "metadata": {},
   "outputs": [
    {
     "name": "stdout",
     "output_type": "stream",
     "text": [
      "The autoreload extension is already loaded. To reload it, use:\n",
      "  %reload_ext autoreload\n"
     ]
    },
    {
     "name": "stderr",
     "output_type": "stream",
     "text": [
      "DEBUG:cmdstanpy:cmd: where.exe tbb.dll\n",
      "cwd: None\n",
      "DEBUG:cmdstanpy:TBB already found in load path\n"
     ]
    },
    {
     "name": "stdout",
     "output_type": "stream",
     "text": [
      "(55900, 674)\n",
      "(55900,)\n",
      "(31720, 674)\n",
      "(31720,)\n"
     ]
    },
    {
     "name": "stderr",
     "output_type": "stream",
     "text": [
      "DEBUG:cmdstanpy:input tempfile: C:\\Users\\Windows\\AppData\\Local\\Temp\\tmppgrzcjv2\\4t2y9npy.json\n",
      "DEBUG:cmdstanpy:input tempfile: C:\\Users\\Windows\\AppData\\Local\\Temp\\tmppgrzcjv2\\tbhhghih.json\n",
      "DEBUG:cmdstanpy:idx 0\n",
      "DEBUG:cmdstanpy:running CmdStan, num_threads: None\n",
      "DEBUG:cmdstanpy:CmdStan args: ['D:\\\\Code\\\\PythonTestEnvForPy11\\\\Lib\\\\site-packages\\\\prophet\\\\stan_model\\\\prophet_model.bin', 'random', 'seed=55409', 'data', 'file=C:\\\\Users\\\\Windows\\\\AppData\\\\Local\\\\Temp\\\\tmppgrzcjv2\\\\4t2y9npy.json', 'init=C:\\\\Users\\\\Windows\\\\AppData\\\\Local\\\\Temp\\\\tmppgrzcjv2\\\\tbhhghih.json', 'output', 'file=C:\\\\Users\\\\Windows\\\\AppData\\\\Local\\\\Temp\\\\tmppgrzcjv2\\\\prophet_model72mt7knh\\\\prophet_model-20250304172311.csv', 'method=optimize', 'algorithm=lbfgs', 'iter=10000']\n",
      "17:23:11 - cmdstanpy - INFO - Chain [1] start processing\n",
      "INFO:cmdstanpy:Chain [1] start processing\n",
      "17:23:43 - cmdstanpy - INFO - Chain [1] done processing\n",
      "INFO:cmdstanpy:Chain [1] done processing\n",
      "INFO:src.experiment_utils:MLflow tracking URI and credentials set.\n"
     ]
    },
    {
     "name": "stdout",
     "output_type": "stream",
     "text": [
      "Test MAE: 33.1503\n",
      "🏃 View run rogue-ape-952 at: https://dagshub.com/s3akash/USTAXIMODEL.mlflow/#/experiments/0/runs/1db317670a5849f1af88bf514bdcb1cb\n",
      "🧪 View experiment at: https://dagshub.com/s3akash/USTAXIMODEL.mlflow/#/experiments/0\n"
     ]
    }
   ],
   "source": [
    "%load_ext autoreload\n",
    "%autoreload 2\n",
    "import sys\n",
    "import os\n",
    "import pandas as pd\n",
    "import numpy as np\n",
    "from datetime import datetime\n",
    "from sklearn.metrics import mean_absolute_error\n",
    "from prophet import Prophet\n",
    "from src.config import TRANSFORMED_DATA_DIR\n",
    "from src.data_utils import split_time_series_data\n",
    "from src.experiment_utils import set_mlflow_tracking\n",
    "from dotenv import load_dotenv\n",
    "import mlflow\n",
    "from mlflow.models.signature import infer_signature\n",
    "\n",
    "# Add the parent directory to the Python path\n",
    "sys.path.append(os.path.abspath(os.path.join(os.getcwd(), \"..\")))\n",
    "\n",
    "# Load data\n",
    "df = pd.read_parquet(TRANSFORMED_DATA_DIR / \"tabular_data.parquet\")\n",
    "\n",
    "# Split data\n",
    "X_train, y_train, X_test, y_test = split_time_series_data(\n",
    "    df,\n",
    "    cutoff_date=datetime(2023, 9, 1, 0, 0, 0),\n",
    "    target_column=\"target\"\n",
    ")\n",
    "\n",
    "print(X_train.shape)\n",
    "print(y_train.shape)\n",
    "print(X_test.shape)\n",
    "print(y_test.shape)\n",
    "\n",
    "# Ensure y_train and y_test have a datetime index\n",
    "if not isinstance(y_train.index, pd.DatetimeIndex):\n",
    "    y_train.index = pd.date_range(start=\"2022-01-01\", periods=len(y_train), freq=\"D\")\n",
    "if not isinstance(y_test.index, pd.DatetimeIndex):\n",
    "    y_test.index = pd.date_range(start=y_train.index[-1] + pd.Timedelta(days=1), \n",
    "                                 periods=len(y_test), freq=\"D\")\n",
    "\n",
    "# Prepare data for Prophet (requires 'ds' and 'y' columns)\n",
    "train_df = pd.DataFrame({\n",
    "    'ds': y_train.index,\n",
    "    'y': y_train.values\n",
    "})\n",
    "test_df = pd.DataFrame({\n",
    "    'ds': y_test.index,\n",
    "    'y': y_test.values\n",
    "})\n",
    "\n",
    "# Train the Prophet model\n",
    "prophet_model = Prophet(\n",
    "    yearly_seasonality=True,  # Enable yearly seasonality\n",
    "    weekly_seasonality=True,  # Enable weekly seasonality\n",
    "    daily_seasonality=True    # Enable daily seasonality\n",
    ")\n",
    "prophet_model.fit(train_df)\n",
    "\n",
    "# Make future dataframe for predictions\n",
    "future = prophet_model.make_future_dataframe(periods=len(y_test), freq=\"D\")\n",
    "forecast = prophet_model.predict(future)\n",
    "\n",
    "# Extract predictions for the test period\n",
    "predictions = forecast.tail(len(y_test))['yhat'].values\n",
    "\n",
    "# Compute Mean Absolute Error (MAE)\n",
    "test_mae = mean_absolute_error(y_test, predictions)\n",
    "print(f\"Test MAE: {test_mae:.4f}\")\n",
    "\n",
    "# Set up MLflow\n",
    "load_dotenv()\n",
    "mlflow = set_mlflow_tracking()\n",
    "\n",
    "# Custom function to log Prophet model to MLflow\n",
    "def log_prophet_to_mlflow(model, experiment_name, metric_name, score, test_df):\n",
    "    with mlflow.start_run():\n",
    "        # Log hyperparameters\n",
    "        mlflow.log_param(\"yearly_seasonality\", True)\n",
    "        mlflow.log_param(\"weekly_seasonality\", True)\n",
    "        mlflow.log_param(\"daily_seasonality\", True)\n",
    "        \n",
    "        # Log metric\n",
    "        mlflow.log_metric(metric_name, score)\n",
    "        \n",
    "        # Use test_df['ds'] as input for signature inference\n",
    "        input_df = test_df[['ds']]  # Prophet expects a DataFrame with 'ds'\n",
    "        predictions = model.predict(input_df)['yhat']\n",
    "        \n",
    "        # Infer signature\n",
    "        signature = infer_signature(input_df, predictions)\n",
    "        \n",
    "        # Log the model using Prophet flavor\n",
    "        mlflow.prophet.log_model(model, \"model\", signature=signature)\n",
    "\n",
    "# Log the Prophet model\n",
    "log_prophet_to_mlflow(prophet_model, \"Prophet\", \"mean_absolute_error\", test_mae, test_df)"
   ]
  }
 ],
 "metadata": {
  "kernelspec": {
   "display_name": "PythonTestEnvForPy11",
   "language": "python",
   "name": "python3"
  },
  "language_info": {
   "codemirror_mode": {
    "name": "ipython",
    "version": 3
   },
   "file_extension": ".py",
   "mimetype": "text/x-python",
   "name": "python",
   "nbconvert_exporter": "python",
   "pygments_lexer": "ipython3",
   "version": "3.11.0"
  }
 },
 "nbformat": 4,
 "nbformat_minor": 2
}
